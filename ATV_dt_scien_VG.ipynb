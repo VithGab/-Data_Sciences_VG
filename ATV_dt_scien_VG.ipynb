{
  "nbformat": 4,
  "nbformat_minor": 0,
  "metadata": {
    "colab": {
      "provenance": [],
      "authorship_tag": "ABX9TyPmbBZ0UdWtotHux5Y/a6JV",
      "include_colab_link": true
    },
    "kernelspec": {
      "name": "python3",
      "display_name": "Python 3"
    },
    "language_info": {
      "name": "python"
    }
  },
  "cells": [
    {
      "cell_type": "markdown",
      "metadata": {
        "id": "view-in-github",
        "colab_type": "text"
      },
      "source": [
        "<a href=\"https://colab.research.google.com/github/VithGab/-Data_Sciences_VG/blob/main/ATV_dt_scien_VG.ipynb\" target=\"_parent\"><img src=\"https://colab.research.google.com/assets/colab-badge.svg\" alt=\"Open In Colab\"/></a>"
      ]
    },
    {
      "cell_type": "code",
      "execution_count": 2,
      "metadata": {
        "id": "DNzxuwLzNnwr",
        "colab": {
          "base_uri": "https://localhost:8080/",
          "height": 1000
        },
        "outputId": "6e57059b-3ec3-4572-e32d-3ae32958942c"
      },
      "outputs": [
        {
          "output_type": "display_data",
          "data": {
            "text/plain": [
              "<IPython.core.display.HTML object>"
            ],
            "text/html": [
              "\n",
              "     <input type=\"file\" id=\"files-43c05dc9-556b-467e-a6f9-4da87a81b378\" name=\"files[]\" multiple disabled\n",
              "        style=\"border:none\" />\n",
              "     <output id=\"result-43c05dc9-556b-467e-a6f9-4da87a81b378\">\n",
              "      Upload widget is only available when the cell has been executed in the\n",
              "      current browser session. Please rerun this cell to enable.\n",
              "      </output>\n",
              "      <script>// Copyright 2017 Google LLC\n",
              "//\n",
              "// Licensed under the Apache License, Version 2.0 (the \"License\");\n",
              "// you may not use this file except in compliance with the License.\n",
              "// You may obtain a copy of the License at\n",
              "//\n",
              "//      http://www.apache.org/licenses/LICENSE-2.0\n",
              "//\n",
              "// Unless required by applicable law or agreed to in writing, software\n",
              "// distributed under the License is distributed on an \"AS IS\" BASIS,\n",
              "// WITHOUT WARRANTIES OR CONDITIONS OF ANY KIND, either express or implied.\n",
              "// See the License for the specific language governing permissions and\n",
              "// limitations under the License.\n",
              "\n",
              "/**\n",
              " * @fileoverview Helpers for google.colab Python module.\n",
              " */\n",
              "(function(scope) {\n",
              "function span(text, styleAttributes = {}) {\n",
              "  const element = document.createElement('span');\n",
              "  element.textContent = text;\n",
              "  for (const key of Object.keys(styleAttributes)) {\n",
              "    element.style[key] = styleAttributes[key];\n",
              "  }\n",
              "  return element;\n",
              "}\n",
              "\n",
              "// Max number of bytes which will be uploaded at a time.\n",
              "const MAX_PAYLOAD_SIZE = 100 * 1024;\n",
              "\n",
              "function _uploadFiles(inputId, outputId) {\n",
              "  const steps = uploadFilesStep(inputId, outputId);\n",
              "  const outputElement = document.getElementById(outputId);\n",
              "  // Cache steps on the outputElement to make it available for the next call\n",
              "  // to uploadFilesContinue from Python.\n",
              "  outputElement.steps = steps;\n",
              "\n",
              "  return _uploadFilesContinue(outputId);\n",
              "}\n",
              "\n",
              "// This is roughly an async generator (not supported in the browser yet),\n",
              "// where there are multiple asynchronous steps and the Python side is going\n",
              "// to poll for completion of each step.\n",
              "// This uses a Promise to block the python side on completion of each step,\n",
              "// then passes the result of the previous step as the input to the next step.\n",
              "function _uploadFilesContinue(outputId) {\n",
              "  const outputElement = document.getElementById(outputId);\n",
              "  const steps = outputElement.steps;\n",
              "\n",
              "  const next = steps.next(outputElement.lastPromiseValue);\n",
              "  return Promise.resolve(next.value.promise).then((value) => {\n",
              "    // Cache the last promise value to make it available to the next\n",
              "    // step of the generator.\n",
              "    outputElement.lastPromiseValue = value;\n",
              "    return next.value.response;\n",
              "  });\n",
              "}\n",
              "\n",
              "/**\n",
              " * Generator function which is called between each async step of the upload\n",
              " * process.\n",
              " * @param {string} inputId Element ID of the input file picker element.\n",
              " * @param {string} outputId Element ID of the output display.\n",
              " * @return {!Iterable<!Object>} Iterable of next steps.\n",
              " */\n",
              "function* uploadFilesStep(inputId, outputId) {\n",
              "  const inputElement = document.getElementById(inputId);\n",
              "  inputElement.disabled = false;\n",
              "\n",
              "  const outputElement = document.getElementById(outputId);\n",
              "  outputElement.innerHTML = '';\n",
              "\n",
              "  const pickedPromise = new Promise((resolve) => {\n",
              "    inputElement.addEventListener('change', (e) => {\n",
              "      resolve(e.target.files);\n",
              "    });\n",
              "  });\n",
              "\n",
              "  const cancel = document.createElement('button');\n",
              "  inputElement.parentElement.appendChild(cancel);\n",
              "  cancel.textContent = 'Cancel upload';\n",
              "  const cancelPromise = new Promise((resolve) => {\n",
              "    cancel.onclick = () => {\n",
              "      resolve(null);\n",
              "    };\n",
              "  });\n",
              "\n",
              "  // Wait for the user to pick the files.\n",
              "  const files = yield {\n",
              "    promise: Promise.race([pickedPromise, cancelPromise]),\n",
              "    response: {\n",
              "      action: 'starting',\n",
              "    }\n",
              "  };\n",
              "\n",
              "  cancel.remove();\n",
              "\n",
              "  // Disable the input element since further picks are not allowed.\n",
              "  inputElement.disabled = true;\n",
              "\n",
              "  if (!files) {\n",
              "    return {\n",
              "      response: {\n",
              "        action: 'complete',\n",
              "      }\n",
              "    };\n",
              "  }\n",
              "\n",
              "  for (const file of files) {\n",
              "    const li = document.createElement('li');\n",
              "    li.append(span(file.name, {fontWeight: 'bold'}));\n",
              "    li.append(span(\n",
              "        `(${file.type || 'n/a'}) - ${file.size} bytes, ` +\n",
              "        `last modified: ${\n",
              "            file.lastModifiedDate ? file.lastModifiedDate.toLocaleDateString() :\n",
              "                                    'n/a'} - `));\n",
              "    const percent = span('0% done');\n",
              "    li.appendChild(percent);\n",
              "\n",
              "    outputElement.appendChild(li);\n",
              "\n",
              "    const fileDataPromise = new Promise((resolve) => {\n",
              "      const reader = new FileReader();\n",
              "      reader.onload = (e) => {\n",
              "        resolve(e.target.result);\n",
              "      };\n",
              "      reader.readAsArrayBuffer(file);\n",
              "    });\n",
              "    // Wait for the data to be ready.\n",
              "    let fileData = yield {\n",
              "      promise: fileDataPromise,\n",
              "      response: {\n",
              "        action: 'continue',\n",
              "      }\n",
              "    };\n",
              "\n",
              "    // Use a chunked sending to avoid message size limits. See b/62115660.\n",
              "    let position = 0;\n",
              "    do {\n",
              "      const length = Math.min(fileData.byteLength - position, MAX_PAYLOAD_SIZE);\n",
              "      const chunk = new Uint8Array(fileData, position, length);\n",
              "      position += length;\n",
              "\n",
              "      const base64 = btoa(String.fromCharCode.apply(null, chunk));\n",
              "      yield {\n",
              "        response: {\n",
              "          action: 'append',\n",
              "          file: file.name,\n",
              "          data: base64,\n",
              "        },\n",
              "      };\n",
              "\n",
              "      let percentDone = fileData.byteLength === 0 ?\n",
              "          100 :\n",
              "          Math.round((position / fileData.byteLength) * 100);\n",
              "      percent.textContent = `${percentDone}% done`;\n",
              "\n",
              "    } while (position < fileData.byteLength);\n",
              "  }\n",
              "\n",
              "  // All done.\n",
              "  yield {\n",
              "    response: {\n",
              "      action: 'complete',\n",
              "    }\n",
              "  };\n",
              "}\n",
              "\n",
              "scope.google = scope.google || {};\n",
              "scope.google.colab = scope.google.colab || {};\n",
              "scope.google.colab._files = {\n",
              "  _uploadFiles,\n",
              "  _uploadFilesContinue,\n",
              "};\n",
              "})(self);\n",
              "</script> "
            ]
          },
          "metadata": {}
        },
        {
          "output_type": "stream",
          "name": "stdout",
          "text": [
            "Saving atividade3_dataset.csv to atividade3_dataset.csv\n"
          ]
        },
        {
          "output_type": "execute_result",
          "data": {
            "text/plain": [
              "{'atividade3_dataset.csv': b'ID;Nome;Idade;Cidade;Produto;Pre\\xc3\\xa7o;Quantidade;Data_Compra\\n1;Mariana;48.0;FORTALEZA;Tablet;2010,87;7;30-05-2024\\n2;Bruno;42.0;RIO DE JANEIRO;Teclado;;6;12-04-2025\\n3;Ana;54.0;RIO DE JANEIRO;Monitor;3619.29;2;10-12-2022\\n4;Carlos;62.0;CURITIBA;Teclado;40415.9;8;31-12-2022\\n5;Mariana;60.0;CURITIBA;Notebook;716.66;8;14-09-2023\\n6;Mariana;18.0;SALVADOR;Headset;2388.44;8;23-02-2024\\n7;Ana;61.0;PORTO ALEGRE;Headset;2363.09;4;28-02-2025\\n8;Jo\\xc3\\xa3o;21.0;S\\xc3\\x83O PAULO;Monitor;2080.54;10;01-01-2024\\n9;Carlos;65.0;curitiba;Tablet;4229,63;3;26-12-2023\\n10;Maria;36.0;MANAUS;Notebook;3101.25;7;18-05-2024\\n11;Fernanda;32.0;BELO HORIZONTE;Headset;1515.12;1;21-11-2023\\n12;Maria;40.0;CURITIBA;Mouse;4096.38;4;24-07-2023\\n13;Ana;30.0;FORTALEZA;Monitor;;1;16-11-2023\\n14;Lucas;61.0;MANAUS;Smartphone;;3;14-03-2023\\n15;Carlos;67.0;FORTALEZA;Tablet;971.26;10;29-01-2024\\n16;Julia;26.0;S\\xc3\\x83O PAULO;Smartphone;4495.69;10;09-06-2024\\n17;Pedro;58.0;RIO DE JANEIRO;Tablet;837.51;3;10-03-2024\\n18;Fernanda;37.0;FORTALEZA;Mouse;4901,19;3;12-11-2023\\n19;Julia;20.0;S\\xc3\\x83O PAULO;Notebook;4933.74;9;13-11-2023\\n20;Julia;64.0;FORTALEZA;Monitor;3670.27;1;29-02-2024\\n21;Carlos;36.0;SALVADOR;Teclado;3441.36;10;15-10-2024\\n22;Lucas;44.0;MANAUS;Teclado;2453.9;3;10-02-2023\\n23;Carlos;26.0;PORTO ALEGRE;Notebook;;1;07-09-2024\\n24;Lucas;41.0;SALVADOR;Smartphone;4884.79;3;22-04-2024\\n25;Jo\\xc3\\xa3o;35.0;rio de janeiro;Teclado;2993.51;5;23-02-2024\\n26;Fernanda;34.0;MANAUS;Monitor;2930.56;3;08-01-2025\\n27;Ana;48.0;BELO HORIZONTE;Notebook;1838.3;9;27-05-2023\\n28;Bruno;36.0;SALVADOR;Notebook;2268.06;7;29-05-2025\\n29;Ana;39.0;MANAUS;Mouse;2709.27;10;02-06-2024\\n30;Julia;47.0;S\\xc3\\x83O PAULO;Mouse;;10;17-10-2024\\n31;Pedro;27.0;SALVADOR;Notebook;;1;19-08-2024\\n32;Jo\\xc3\\xa3o;32.0;MANAUS;Smartphone;4207.54;5;02-07-2024\\n33;Ana;64.0;CURITIBA;Notebook;2661.48;2;05-12-2024\\n34;Ana;43.0;MANAUS;Headset;1431.29;4;22-03-2025\\n35;Pedro;69.0;CURITIBA;Tablet;4896.76;8;22-10-2024\\n36;Pedro;23.0;FORTALEZA;Headset;1019.79;10;18-08-2025\\n37;Ana;18.0;SALVADOR;Smartphone;2619.25;8;28-08-2025\\n38;Mariana;25.0;FORTALEZA;Smartphone;1692.52;8;11-03-2024\\n39;Maria;61.0;SALVADOR;Mouse;2243.87;3;17-05-2023\\n40;Pedro;34.0;FORTALEZA;Notebook;2216.5;4;14-07-2023\\n41;Maria;70.0;SALVADOR;Monitor;700.78;7;13-04-2023\\n42;Fernanda;41.0;MANAUS;Mouse;1685.3;10;11-04-2025\\n43;Jo\\xc3\\xa3o;32.0;CURITIBA;Teclado;3039.11;3;10-09-2024\\n44;Mariana;57.0;FORTALEZA;Teclado;3634.12;10;08-11-2024\\n45;Pedro;53.0;PORTO ALEGRE;Teclado;3506.64;3;05-05-2024\\n46;Fernanda;57.0;PORTO ALEGRE;Headset;2362.94;10;28-02-2024\\n47;Lucas;22.0;BELO HORIZONTE;Smartphone;1523.81;9;20-08-2025\\n48;Julia;47.0;FORTALEZA;Tablet;;5;24-09-2023\\n49;Maria;37.0;RIO DE JANEIRO;Smartphone;2851.62;3;27-01-2023\\n50;Mariana;25.0;MANAUS;Headset;3591.81;6;12-04-2024\\n51;Mariana;20.0;MANAUS;Teclado;3077.21;8;02-01-2023\\n52;Jo\\xc3\\xa3o;49.0;FORTALEZA;Tablet;1844.83;10;17-07-2023\\n53;Maria;33.0;FORTALEZA;Tablet;4342.73;10;27-04-2024\\n54;Lucas;26.0;SALVADOR;Mouse;;2;26-10-2024\\n55;Jo\\xc3\\xa3o;41.0;SALVADOR;Notebook;2825.68;4;19-08-2025\\n56;Mariana;65.0;S\\xc3\\x83O PAULO;Monitor;4922.4;7;06-07-2023\\n57;Ana;52.0;CURITIBA;Tablet;4771.65;7;14-06-2024\\n58;Lucas;65.0;RIO DE JANEIRO;Notebook;4770.78;3;03-06-2023\\n59;Mariana;44.0;BELO HORIZONTE;Monitor;1453.51;2;02-11-2024\\n60;Carlos;49.0;belo horizonte;Teclado;692.04;1;26-12-2023\\n61;Carlos;35.0;MANAUS;Notebook;3574.06;4;04-01-2025\\n62;Pedro;;SALVADOR;Smartphone;4201.54;9;05-06-2023\\n63;Jo\\xc3\\xa3o;46.0;FORTALEZA;Smartphone;3177.71;9;21-08-2025\\n64;Mariana;33.0;S\\xc3\\x83O PAULO;Mouse;3771.96;7;14-02-2024\\n65;Pedro;24.0;RIO DE JANEIRO;Monitor;891.62;3;11-08-2024\\n66;Jo\\xc3\\xa3o;41.0;SALVADOR;Notebook;2984.24;10;16-02-2025\\n67;Lucas;59.0;S\\xc3\\x83O PAULO;Headset;2838.6;2;03-07-2024\\n68;Mariana;43.0;BELO HORIZONTE;Notebook;555.64;3;09-03-2023\\n69;Jo\\xc3\\xa3o;25.0;BELO HORIZONTE;Headset;3144.09;8;01-02-2024\\n70;Mariana;70.0;S\\xc3\\x83O PAULO;Mouse;1006,33;10;07-06-2024\\n71;Ana;60.0;PORTO ALEGRE;Tablet;3049.67;10;20-07-2024\\n72;Julia;58.0;BELO HORIZONTE;Mouse;4841.74;1;16-12-2024\\n73;Bruno;19.0;FORTALEZA;Mouse;975.36;9;14-03-2025\\n74;Carlos;39.0;S\\xc3\\x83O PAULO;Tablet;4035.86;9;27-08-2023\\n75;Julia;26.0;RIO DE JANEIRO;Tablet;4460.61;2;05-08-2023\\n76;Jo\\xc3\\xa3o;31.0;CURITIBA;Notebook;1688.61;2;06-11-2023\\n77;Bruno;66.0;MANAUS;Monitor;3074.1;8;25-07-2024\\n78;Julia;55.0;BELO HORIZONTE;Headset;1274.9;3;03-05-2023\\n79;Ana;32.0;MANAUS;Notebook;3282.1;10;06-08-2024\\n80;Carlos;27.0;RIO DE JANEIRO;Tablet;2307.74;9;15-01-2025\\n81;Fernanda;56.0;MANAUS;Smartphone;4455.31;1;02-12-2024\\n82;Jo\\xc3\\xa3o;;BELO HORIZONTE;Tablet;721.81;7;08-06-2025\\n83;Carlos;27.0;curitiba;Monitor;1708.63;9;22-06-2024\\n84;Julia;52.0;SALVADOR;Mouse;2020.4;7;27-11-2023\\n85;Fernanda;29.0;PORTO ALEGRE;Tablet;1899.27;6;26-12-2024\\n86;Maria;19.0;CURITIBA;Teclado;4362.06;1;17-03-2024\\n87;Carlos;40.0;rio de janeiro;Monitor;4876.23;9;08-07-2023\\n88;Maria;33.0;BELO HORIZONTE;Smartphone;1852.16;7;01-06-2023\\n89;Bruno;19.0;SALVADOR;Headset;3983.14;4;09-02-2023\\n90;Lucas;21.0;porto alegre;Tablet;3779.6;8;10-12-2023\\n91;Mariana;44.0;FORTALEZA;Monitor;901.79;7;25-05-2023\\n92;Bruno;65.0;FORTALEZA;Headset;4610.45;6;18-09-2023\\n93;Fernanda;46.0;S\\xc3\\x83O PAULO;Mouse;2680.07;10;27-09-2023\\n94;Fernanda;50.0;CURITIBA;Mouse;2182.6;10;23-11-2024\\n95;Carlos;46.0;S\\xc3\\x83O PAULO;Smartphone;;2;10-11-2024\\n96;Mariana;57.0;MANAUS;Teclado;795.28;7;03-11-2023\\n97;Lucas;;PORTO ALEGRE;Monitor;2315.23;3;30-07-2023\\n98;Julia;60.0;FORTALEZA;Mouse;2859.29;5;02-03-2024\\n99;Pedro;47.0;FORTALEZA;Mouse;1281.82;8;23-05-2023\\n100;Jo\\xc3\\xa3o;19.0;SALVADOR;Smartphone;1403.27;4;26-11-2024\\n101;Lucas;48.0;BELO HORIZONTE;Smartphone;;2;02-07-2024\\n102;Fernanda;45.0;MANAUS;Notebook;;5;17-02-2025\\n103;Pedro;49.0;CURITIBA;Headset;;10;08-04-2023\\n104;Fernanda;46.0;MANAUS;Notebook;1395.99;9;19-06-2025\\n105;Mariana;23.0;SALVADOR;Smartphone;2588.98;7;23-02-2025\\n106;Mariana;27.0;RIO DE JANEIRO;Monitor;4653.83;5;11-04-2025\\n107;Carlos;35.0;CURITIBA;Tablet;1588.72;4;05-11-2024\\n108;Julia;55.0;rio de janeiro;Teclado;2507.47;1;07-05-2025\\n109;Ana;38.0;salvador;Mouse;2635.62;1;15-11-2023\\n110;Fernanda;56.0;BELO HORIZONTE;Teclado;2049.12;10;19-05-2024\\n111;Julia;47.0;MANAUS;Notebook;1663.97;9;05-12-2023\\n112;Maria;45.0;SALVADOR;Tablet;906.76;2;22-05-2024\\n113;Fernanda;62.0;MANAUS;Notebook;;9;23-11-2024\\n114;Pedro;59.0;manaus;Mouse;;1;11-09-2023\\n115;Julia;67.0;MANAUS;Teclado;4009.24;7;30-11-2023\\n116;Lucas;31.0;PORTO ALEGRE;Headset;1496.08;4;12-04-2024\\n117;Julia;32.0;S\\xc3\\x83O PAULO;Mouse;1430.29;6;17-02-2025\\n118;Lucas;70.0;FORTALEZA;Teclado;2809.77;7;04-10-2024\\n119;Mariana;44.0;PORTO ALEGRE;Teclado;4852.12;6;09-08-2025\\n120;Lucas;38.0;S\\xc3\\x83O PAULO;Tablet;2633.44;2;26-03-2025\\n121;Bruno;60.0;RIO DE JANEIRO;Notebook;1279.4;3;09-07-2025\\n122;Ana;27.0;curitiba;Smartphone;1506.97;7;10-12-2022\\n123;Bruno;48.0;S\\xc3\\x83O PAULO;Monitor;4743.52;10;28-02-2024\\n124;Pedro;23.0;RIO DE JANEIRO;Smartphone;3692.16;5;06-08-2025\\n125;Jo\\xc3\\xa3o;24.0;MANAUS;Headset;4529.67;5;19-02-2025\\n126;Pedro;41.0;porto alegre;Headset;2565.49;9;07-12-2022\\n127;Carlos;53.0;BELO HORIZONTE;Notebook;1859.65;7;16-05-2025\\n128;Fernanda;53.0;PORTO ALEGRE;Smartphone;3306.23;10;13-11-2024\\n129;Bruno;60.0;PORTO ALEGRE;Teclado;533.06;6;26-11-2024\\n130;Pedro;40.0;PORTO ALEGRE;Tablet;4849.18;10;22-04-2025\\n131;Fernanda;66.0;BELO HORIZONTE;Notebook;3026,56;5;27-08-2023\\n132;Fernanda;64.0;CURITIBA;Notebook;1772.05;7;06-06-2024\\n133;Fernanda;36.0;PORTO ALEGRE;Smartphone;2667.82;4;15-08-2023\\n134;Ana;40.0;SALVADOR;Mouse;1744.17;7;20-08-2025\\n135;Jo\\xc3\\xa3o;50.0;S\\xc3\\x83O PAULO;Monitor;1745.98;9;02-01-2025\\n136;Lucas;60.0;MANAUS;Headset;4784.85;9;28-05-2025\\n137;Pedro;24.0;PORTO ALEGRE;Teclado;1347.62;8;27-03-2025\\n138;Carlos;53.0;SALVADOR;Tablet;1581.36;3;13-08-2025\\n139;Pedro;66.0;CURITIBA;Headset;;6;10-04-2024\\n140;Lucas;32.0;SALVADOR;Teclado;4145.13;9;18-01-2025\\n141;Mariana;53.0;RIO DE JANEIRO;Notebook;1938.14;9;12-09-2024\\n142;Julia;70.0;porto alegre;Monitor;614.55;8;24-06-2024\\n143;Fernanda;61.0;S\\xc3\\x83O PAULO;Notebook;1830.22;5;13-10-2024\\n144;Bruno;19.0;RIO DE JANEIRO;Monitor;2320.7;5;16-06-2023\\n145;Bruno;60.0;S\\xc3\\x83O PAULO;Smartphone;3123.61;10;02-06-2023\\n146;Julia;35.0;S\\xc3\\x83O PAULO;Teclado;4172,07;6;05-04-2024\\n147;Carlos;;S\\xc3\\x83O PAULO;Mouse;3710.16;7;13-08-2024\\n148;Bruno;66.0;SALVADOR;Headset;3372.41;3;11-05-2024\\n149;Julia;39.0;S\\xc3\\x83O PAULO;Notebook;4733.01;2;15-09-2023\\n150;Julia;29.0;FORTALEZA;Monitor;1850.88;4;10-06-2023\\n151;Fernanda;54.0;CURITIBA;Monitor;3459.27;8;27-07-2025\\n152;Lucas;22.0;CURITIBA;Notebook;1822.03;3;24-09-2024\\n153;Lucas;58.0;BELO HORIZONTE;Headset;3834.14;2;07-06-2025\\n154;Lucas;23.0;SALVADOR;Teclado;30156.399999999998;4;18-04-2023\\n155;Pedro;31.0;FORTALEZA;Smartphone;47611.6;9;22-07-2023\\n156;Jo\\xc3\\xa3o;47.0;belo horizonte;Smartphone;3444.96;7;28-12-2022\\n157;Pedro;41.0;PORTO ALEGRE;Tablet;1504.98;6;01-04-2025\\n158;Julia;38.0;S\\xc3\\x83O PAULO;Tablet;2392.13;9;02-07-2025\\n159;Jo\\xc3\\xa3o;54.0;PORTO ALEGRE;Mouse;2172.57;10;29-11-2024\\n160;Bruno;21.0;CURITIBA;Tablet;2586.92;1;26-06-2023\\n161;Maria;66.0;PORTO ALEGRE;Mouse;741.55;3;23-07-2024\\n162;Pedro;61.0;PORTO ALEGRE;Headset;3111.41;7;16-06-2025\\n163;Pedro;46.0;MANAUS;Teclado;2624.99;1;19-02-2024\\n164;Fernanda;49.0;SALVADOR;Mouse;1039.17;2;04-05-2024\\n165;Lucas;44.0;BELO HORIZONTE;Teclado;2884.27;3;24-02-2025\\n166;Mariana;66.0;S\\xc3\\x83O PAULO;Tablet;4418.82;8;13-02-2025\\n167;Bruno;40.0;PORTO ALEGRE;Tablet;4965.57;10;23-02-2023\\n168;Mariana;36.0;BELO HORIZONTE;Headset;4942.36;7;20-04-2023\\n169;Lucas;55.0;FORTALEZA;Tablet;4939.92;2;15-12-2024\\n170;Jo\\xc3\\xa3o;60.0;RIO DE JANEIRO;Smartphone;4380.77;2;15-05-2023\\n171;Pedro;32.0;CURITIBA;Notebook;863.65;5;03-08-2024\\n172;Lucas;56.0;salvador;Smartphone;4939.88;4;03-05-2023\\n173;Pedro;31.0;porto alegre;Smartphone;761.06;6;16-08-2025\\n174;Julia;31.0;S\\xc3\\x83O PAULO;Mouse;1442.22;2;26-04-2025\\n175;Maria;66.0;SALVADOR;Mouse;3093.26;10;05-12-2022\\n176;Lucas;38.0;SALVADOR;Monitor;4033.45;1;04-07-2023\\n177;Ana;49.0;CURITIBA;Notebook;1082.33;7;28-08-2023\\n178;Bruno;29.0;S\\xc3\\x83O PAULO;Smartphone;2432.34;7;17-12-2024\\n179;Maria;52.0;SALVADOR;Notebook;2648.3;10;30-07-2024\\n180;Lucas;50.0;RIO DE JANEIRO;Smartphone;;9;01-07-2023\\n181;Ana;60.0;MANAUS;Headset;3787.97;5;04-12-2022\\n182;Ana;22.0;SALVADOR;Headset;4514.03;10;01-06-2024\\n183;Bruno;65.0;SALVADOR;Tablet;2889.65;1;18-12-2024\\n184;Lucas;;FORTALEZA;Headset;;3;04-08-2023\\n185;Maria;;CURITIBA;Notebook;nan;8;25-07-2025\\n186;Fernanda;38.0;CURITIBA;Monitor;1518.2;8;06-02-2025\\n187;Jo\\xc3\\xa3o;54.0;MANAUS;Tablet;1904.42;1;14-05-2024\\n188;Ana;58.0;MANAUS;Mouse;2765.01;4;07-08-2023\\n189;Mariana;25.0;CURITIBA;Smartphone;793.79;9;01-07-2023\\n190;Lucas;38.0;CURITIBA;Headset;;5;24-05-2025\\n191;Fernanda;57.0;S\\xc3\\x83O PAULO;Tablet;2551.67;4;13-03-2024\\n192;Fernanda;62.0;SALVADOR;Headset;2858.53;1;17-10-2023\\n193;Fernanda;23.0;S\\xc3\\x83O PAULO;Tablet;3590.51;10;27-01-2025\\n194;Julia;24.0;PORTO ALEGRE;Mouse;4982.63;9;01-05-2024\\n195;Maria;55.0;SALVADOR;Notebook;3875.52;9;26-07-2024\\n196;Ana;23.0;PORTO ALEGRE;Notebook;4581.02;4;01-10-2023\\n197;Lucas;37.0;SALVADOR;Smartphone;586.06;10;18-12-2022\\n198;Fernanda;32.0;CURITIBA;Mouse;4931.96;3;13-10-2024\\n199;Jo\\xc3\\xa3o;28.0;MANAUS;Teclado;598.61;1;13-01-2023\\n200;Jo\\xc3\\xa3o;58.0;MANAUS;Tablet;1054.23;6;02-10-2024\\n201;Carlos;50.0;CURITIBA;Mouse;4064.57;4;19-03-2025\\n202;Fernanda;67.0;MANAUS;Teclado;3381.44;1;23-11-2023\\n203;Jo\\xc3\\xa3o;64.0;S\\xc3\\x83O PAULO;Teclado;3304.11;3;14-08-2023\\n204;Mariana;59.0;RIO DE JANEIRO;Monitor;715,82;2;16-07-2025\\n205;Ana;33.0;S\\xc3\\x83O PAULO;Notebook;4262.54;5;28-07-2023\\n206;Maria;34.0;PORTO ALEGRE;Smartphone;;7;12-01-2023\\n207;Maria;56.0;SALVADOR;Mouse;2499.41;6;13-02-2024\\n208;Mariana;66.0;belo horizonte;Mouse;1637.32;7;13-03-2024\\n209;Lucas;29.0;manaus;Tablet;1424.73;7;25-04-2025\\n210;Jo\\xc3\\xa3o;58.0;MANAUS;Smartphone;541.87;10;12-12-2024\\n211;Pedro;66.0;S\\xc3\\x83O PAULO;Notebook;954.41;4;23-04-2024\\n212;Jo\\xc3\\xa3o;55.0;porto alegre;Teclado;3302.59;9;14-11-2023\\n213;Bruno;54.0;fortaleza;Smartphone;2384.72;1;27-10-2024\\n214;Carlos;57.0;FORTALEZA;Tablet;2802.13;2;06-02-2025\\n215;Mariana;58.0;porto alegre;Headset;1772.18;2;24-08-2024\\n216;Mariana;46.0;BELO HORIZONTE;Monitor;2739.83;9;04-03-2023\\n217;Mariana;46.0;RIO DE JANEIRO;Notebook;4000.82;5;06-07-2025\\n218;Pedro;68.0;SALVADOR;Teclado;4879.04;9;28-03-2023\\n219;Bruno;21.0;FORTALEZA;Tablet;2343.9;10;16-10-2023\\n220;Carlos;22.0;FORTALEZA;Tablet;2966.62;6;17-01-2025\\n221;Fernanda;46.0;RIO DE JANEIRO;Mouse;3596.92;6;06-12-2022\\n222;Fernanda;;PORTO ALEGRE;Smartphone;1555.27;5;05-05-2025\\n223;Lucas;36.0;SALVADOR;Notebook;;4;30-12-2024\\n224;Mariana;23.0;SALVADOR;Headset;996.94;10;19-11-2023\\n225;Carlos;50.0;RIO DE JANEIRO;Mouse;2723.47;4;10-06-2024\\n226;Lucas;55.0;S\\xc3\\x83O PAULO;Headset;4007.87;8;30-09-2024\\n227;Mariana;68.0;porto alegre;Monitor;3756.09;7;13-08-2025\\n228;Mariana;20.0;MANAUS;Teclado;3399.52;10;10-03-2025\\n229;Ana;69.0;s\\xc3\\xa3o paulo;Monitor;4897.81;1;07-06-2023\\n230;Mariana;30.0;RIO DE JANEIRO;Smartphone;725,36;5;19-11-2024\\n231;Jo\\xc3\\xa3o;48.0;PORTO ALEGRE;Notebook;4433.63;3;08-01-2024\\n232;Pedro;21.0;CURITIBA;Headset;2120,97;7;28-04-2025\\n233;Pedro;69.0;RIO DE JANEIRO;Notebook;2416.98;9;19-07-2024\\n234;Lucas;39.0;S\\xc3\\x83O PAULO;Mouse;4330.61;2;12-06-2023\\n235;Jo\\xc3\\xa3o;23.0;MANAUS;Mouse;543.53;9;23-12-2024\\n236;Maria;29.0;RIO DE JANEIRO;Smartphone;3412.39;2;19-08-2025\\n237;Pedro;;FORTALEZA;Notebook;4525.37;9;10-12-2022\\n238;Maria;46.0;S\\xc3\\x83O PAULO;Notebook;1707.39;5;16-07-2025\\n239;Bruno;57.0;CURITIBA;Notebook;2176.8;6;11-01-2024\\n240;Jo\\xc3\\xa3o;41.0;salvador;Mouse;1012.24;2;18-06-2023\\n241;Maria;42.0;PORTO ALEGRE;Mouse;2554.42;9;21-09-2023\\n242;Ana;39.0;FORTALEZA;Smartphone;3604.56;5;29-04-2024\\n243;Carlos;21.0;SALVADOR;Smartphone;2397.83;9;24-09-2023\\n244;Fernanda;59.0;PORTO ALEGRE;Smartphone;1250.5;10;27-12-2023\\n245;Mariana;39.0;CURITIBA;Mouse;3768.85;5;23-03-2025\\n246;Fernanda;61.0;BELO HORIZONTE;Headset;4299.57;8;13-08-2024\\n247;Lucas;34.0;RIO DE JANEIRO;Tablet;4600.52;7;01-07-2023\\n248;Ana;60.0;CURITIBA;Teclado;3060.25;10;29-05-2025\\n249;Pedro;56.0;porto alegre;Teclado;3250.95;8;17-12-2024\\n250;Lucas;39.0;RIO DE JANEIRO;Teclado;3251.11;4;20-03-2025\\n251;Lucas;60.0;PORTO ALEGRE;Notebook;4459.78;6;04-04-2024\\n252;Fernanda;40.0;CURITIBA;Monitor;4512.93;8;27-05-2025\\n253;Jo\\xc3\\xa3o;59.0;fortaleza;Monitor;2696.55;8;26-09-2023\\n254;Pedro;43.0;MANAUS;Tablet;2483.1;10;04-12-2023\\n255;Lucas;63.0;CURITIBA;Mouse;;1;16-09-2024\\n256;Mariana;37.0;PORTO ALEGRE;Notebook;555.62;8;18-01-2023\\n257;Pedro;59.0;PORTO ALEGRE;Notebook;2861.68;2;10-12-2022\\n258;Carlos;70.0;fortaleza;Notebook;3756.98;5;13-07-2023\\n259;Jo\\xc3\\xa3o;62.0;RIO DE JANEIRO;Smartphone;4800.93;2;27-11-2023\\n260;Bruno;65.0;belo horizonte;Teclado;2835.95;7;28-06-2025\\n261;Pedro;51.0;BELO HORIZONTE;Headset;3282.08;4;28-06-2025\\n262;Maria;60.0;CURITIBA;Mouse;3769.93;4;29-08-2024\\n263;Lucas;41.0;RIO DE JANEIRO;Smartphone;3486.7;6;07-11-2023\\n264;Maria;;fortaleza;Notebook;1168.95;7;24-03-2025\\n265;Jo\\xc3\\xa3o;31.0;FORTALEZA;Mouse;4514.28;6;10-09-2023\\n266;Ana;67.0;RIO DE JANEIRO;Mouse;552,4;9;26-02-2024\\n267;Maria;32.0;MANAUS;Mouse;2775.05;9;10-06-2023\\n268;Lucas;27.0;PORTO ALEGRE;Tablet;2731.26;1;11-05-2025\\n269;Mariana;68.0;RIO DE JANEIRO;Notebook;3881.44;5;22-04-2025\\n270;Mariana;67.0;RIO DE JANEIRO;Notebook;1989.03;4;16-04-2024\\n271;Lucas;65.0;CURITIBA;Headset;2781.18;5;02-01-2025\\n272;Fernanda;20.0;S\\xc3\\x83O PAULO;Notebook;2203.87;2;08-10-2024\\n273;Jo\\xc3\\xa3o;67.0;PORTO ALEGRE;Smartphone;854.74;7;04-02-2024\\n274;Fernanda;56.0;SALVADOR;Monitor;3078.66;6;13-06-2023\\n275;Lucas;28.0;BELO HORIZONTE;Headset;2743.05;2;07-11-2023\\n276;Carlos;62.0;BELO HORIZONTE;Mouse;4913.02;9;16-07-2023\\n277;Lucas;69.0;FORTALEZA;Teclado;579.96;3;07-09-2024\\n278;Bruno;64.0;BELO HORIZONTE;Headset;661.24;8;27-05-2023\\n279;Bruno;44.0;porto alegre;Headset;4216.59;6;27-02-2023\\n280;Fernanda;64.0;FORTALEZA;Notebook;4834.27;6;05-06-2024\\n281;Fernanda;46.0;RIO DE JANEIRO;Headset;4505.5;4;09-08-2023\\n282;Jo\\xc3\\xa3o;66.0;SALVADOR;Teclado;3445,68;10;12-02-2025\\n283;Mariana;46.0;MANAUS;Headset;2033.84;5;07-08-2025\\n284;Ana;33.0;SALVADOR;Smartphone;4174.65;3;23-09-2023\\n285;Carlos;69.0;BELO HORIZONTE;Tablet;1993.88;4;07-08-2024\\n286;Julia;30.0;PORTO ALEGRE;Smartphone;3199.78;8;27-08-2024\\n287;Mariana;54.0;PORTO ALEGRE;Smartphone;2134.83;4;18-08-2023\\n288;Lucas;47.0;CURITIBA;Tablet;938.47;4;13-04-2025\\n289;Ana;67.0;PORTO ALEGRE;Tablet;509.89;4;15-12-2024\\n290;Jo\\xc3\\xa3o;51.0;BELO HORIZONTE;Headset;3351.48;5;20-02-2023\\n291;Pedro;28.0;SALVADOR;Smartphone;2964.61;4;19-07-2025\\n292;Mariana;69.0;BELO HORIZONTE;Notebook;978.45;4;19-04-2024\\n293;Mariana;34.0;CURITIBA;Monitor;2715.9;4;05-09-2023\\n294;Ana;48.0;MANAUS;Monitor;3841.3;4;06-06-2024\\n295;Lucas;53.0;SALVADOR;Monitor;1644.3;10;03-02-2024\\n296;Mariana;63.0;FORTALEZA;Smartphone;1043.36;6;31-10-2024\\n297;Ana;25.0;PORTO ALEGRE;Teclado;1470.15;3;20-02-2024\\n298;Maria;66.0;SALVADOR;Tablet;1357.6;2;15-09-2023\\n299;Fernanda;46.0;BELO HORIZONTE;Headset;3907.17;2;14-04-2024\\n300;Bruno;27.0;S\\xc3\\x83O PAULO;Headset;;2;15-02-2025\\n301;Fernanda;23.0;MANAUS;Monitor;3524.64;8;26-01-2024\\n302;Lucas;32.0;SALVADOR;Headset;4512.89;10;18-02-2025\\n303;Maria;40.0;FORTALEZA;Notebook;3151.92;1;19-02-2024\\n304;Mariana;44.0;RIO DE JANEIRO;Notebook;4837.35;9;06-09-2024\\n305;Carlos;50.0;PORTO ALEGRE;Tablet;;1;01-10-2024\\n306;Fernanda;42.0;BELO HORIZONTE;Headset;2989,52;8;10-08-2023\\n307;Jo\\xc3\\xa3o;41.0;SALVADOR;Smartphone;3133.04;6;06-05-2024\\n308;Fernanda;38.0;BELO HORIZONTE;Headset;4014.87;10;20-11-2024\\n309;Julia;63.0;PORTO ALEGRE;Smartphone;3613.18;6;24-03-2023\\n310;Carlos;68.0;manaus;Teclado;4168.6;8;30-04-2023\\n311;Julia;20.0;PORTO ALEGRE;Mouse;3458.85;10;24-12-2023\\n312;Julia;48.0;CURITIBA;Monitor;1948.3;5;04-02-2023\\n313;Jo\\xc3\\xa3o;26.0;RIO DE JANEIRO;Smartphone;2383.99;8;31-03-2023\\n314;Maria;48.0;SALVADOR;Teclado;3616.32;3;08-02-2024\\n315;Julia;18.0;CURITIBA;Mouse;2290.41;9;17-03-2025\\n316;Carlos;19.0;S\\xc3\\x83O PAULO;Monitor;1823.78;5;19-06-2025\\n317;Fernanda;27.0;PORTO ALEGRE;Mouse;1121.81;7;03-03-2024\\n318;Lucas;64.0;CURITIBA;Notebook;4488.97;4;23-03-2025\\n319;Carlos;45.0;PORTO ALEGRE;Headset;4293.83;10;25-05-2024\\n320;Bruno;36.0;RIO DE JANEIRO;Mouse;1912.6;3;30-10-2024\\n321;Ana;25.0;SALVADOR;Teclado;2991.12;1;12-05-2023\\n322;Fernanda;;PORTO ALEGRE;Tablet;1443.71;9;02-12-2024\\n323;Jo\\xc3\\xa3o;68.0;BELO HORIZONTE;Headset;3589.75;7;21-02-2024\\n324;Julia;22.0;S\\xc3\\x83O PAULO;Monitor;1097.02;8;18-08-2024\\n325;Lucas;49.0;FORTALEZA;Mouse;4888.31;9;21-05-2024\\n326;Julia;19.0;RIO DE JANEIRO;Headset;2941.21;1;28-08-2025\\n327;Jo\\xc3\\xa3o;54.0;BELO HORIZONTE;Tablet;3696.59;9;26-06-2023\\n328;Carlos;27.0;CURITIBA;Monitor;3030.26;6;14-11-2023\\n329;Bruno;18.0;SALVADOR;Monitor;4742.03;7;28-03-2024\\n330;Ana;33.0;CURITIBA;Tablet;3534.1;3;05-08-2024\\n331;Bruno;29.0;MANAUS;Headset;2902.56;8;08-08-2023\\n332;Fernanda;23.0;MANAUS;Tablet;2400.74;2;20-02-2025\\n333;Carlos;41.0;FORTALEZA;Smartphone;;9;08-03-2023\\n334;Ana;51.0;rio de janeiro;Notebook;2213.92;8;09-08-2025\\n335;Pedro;68.0;curitiba;Tablet;;6;03-12-2023\\n336;Bruno;53.0;BELO HORIZONTE;Monitor;;1;04-04-2023\\n337;Julia;;SALVADOR;Smartphone;4034.89;1;21-08-2024\\n338;Mariana;20.0;BELO HORIZONTE;Notebook;3575.26;4;26-06-2023\\n339;Fernanda;41.0;PORTO ALEGRE;Mouse;779.15;7;02-12-2023\\n340;Fernanda;19.0;SALVADOR;Mouse;1418.0;10;27-12-2024\\n341;Ana;22.0;BELO HORIZONTE;Tablet;2114.07;2;04-10-2024\\n342;Pedro;64.0;PORTO ALEGRE;Notebook;3272.49;6;21-08-2023\\n343;Lucas;24.0;SALVADOR;Mouse;3028.48;6;25-06-2025\\n344;Bruno;65.0;PORTO ALEGRE;Headset;3412.04;10;24-10-2023\\n345;Maria;26.0;SALVADOR;Monitor;2799.15;5;12-12-2022\\n346;Lucas;;RIO DE JANEIRO;Tablet;3632.58;3;24-02-2024\\n347;Fernanda;70.0;BELO HORIZONTE;Mouse;711.41;9;13-05-2023\\n348;Fernanda;67.0;SALVADOR;Monitor;2374.55;5;28-07-2024\\n349;Jo\\xc3\\xa3o;62.0;FORTALEZA;Smartphone;3583.17;4;15-02-2025\\n350;Ana;29.0;MANAUS;Smartphone;742.11;5;10-03-2024\\n351;Mariana;22.0;CURITIBA;Notebook;1413.89;8;29-09-2023\\n352;Pedro;47.0;PORTO ALEGRE;Smartphone;4372.0;10;06-04-2024\\n353;Maria;;CURITIBA;Teclado;1514.97;6;06-07-2023\\n354;Lucas;68.0;MANAUS;Smartphone;3692.95;6;11-02-2024\\n355;Bruno;20.0;FORTALEZA;Tablet;3147.73;3;24-03-2025\\n356;Ana;37.0;RIO DE JANEIRO;Monitor;1384.11;8;10-12-2023\\n357;Bruno;70.0;CURITIBA;Mouse;1370.74;7;12-11-2024\\n358;Carlos;34.0;FORTALEZA;Mouse;4925.54;4;02-10-2024\\n359;Jo\\xc3\\xa3o;;CURITIBA;Teclado;4831.14;7;05-07-2024\\n360;Pedro;36.0;PORTO ALEGRE;Notebook;1037.09;6;11-11-2023\\n361;Jo\\xc3\\xa3o;67.0;BELO HORIZONTE;Mouse;;6;03-10-2024\\n362;Fernanda;;PORTO ALEGRE;Smartphone;1689.08;7;07-05-2025\\n363;Jo\\xc3\\xa3o;35.0;BELO HORIZONTE;Monitor;4307.06;5;22-05-2025\\n364;Maria;41.0;MANAUS;Mouse;;8;11-03-2024\\n365;Fernanda;43.0;BELO HORIZONTE;Mouse;4718.73;3;24-10-2023\\n366;Lucas;42.0;MANAUS;Headset;;10;21-06-2025\\n367;Bruno;29.0;CURITIBA;Tablet;3185.96;3;15-07-2025\\n368;Lucas;49.0;MANAUS;Mouse;3314.15;10;26-04-2023\\n369;Carlos;69.0;PORTO ALEGRE;Mouse;1855.2;4;11-01-2023\\n370;Fernanda;69.0;MANAUS;Smartphone;2975.72;2;18-04-2025\\n371;Fernanda;45.0;MANAUS;Smartphone;3684.57;5;27-02-2025\\n372;Pedro;56.0;MANAUS;Smartphone;4806,44;4;18-03-2023\\n373;Fernanda;29.0;RIO DE JANEIRO;Monitor;4038.16;9;27-07-2025\\n374;Bruno;38.0;SALVADOR;Tablet;2943.86;7;03-02-2025\\n375;Maria;38.0;FORTALEZA;Mouse;2072.31;7;11-05-2025\\n376;Carlos;37.0;FORTALEZA;Teclado;3485.01;4;18-04-2024\\n377;Pedro;63.0;MANAUS;Teclado;1821.08;3;13-02-2025\\n378;Mariana;62.0;MANAUS;Tablet;3282.26;3;19-05-2025\\n379;Bruno;46.0;RIO DE JANEIRO;Monitor;3026.01;8;27-07-2025\\n380;Maria;;FORTALEZA;Notebook;3421.85;1;22-01-2024\\n381;Jo\\xc3\\xa3o;40.0;CURITIBA;Teclado;2057.03;3;10-11-2023\\n382;Lucas;45.0;S\\xc3\\x83O PAULO;Teclado;3390,19;7;25-04-2023\\n383;Carlos;68.0;MANAUS;Tablet;1597.22;8;27-07-2024\\n384;Julia;22.0;PORTO ALEGRE;Monitor;;3;25-10-2023\\n385;Bruno;43.0;SALVADOR;Monitor;2216.18;9;14-04-2024\\n386;Lucas;69.0;S\\xc3\\x83O PAULO;Smartphone;1010.18;9;08-03-2024\\n387;Ana;28.0;CURITIBA;Monitor;3757.89;6;29-11-2023\\n388;Lucas;27.0;RIO DE JANEIRO;Smartphone;;8;10-09-2023\\n389;Lucas;61.0;RIO DE JANEIRO;Mouse;3967.22;5;02-01-2024\\n390;Mariana;20.0;SALVADOR;Mouse;2789.31;5;09-12-2024\\n391;Mariana;33.0;CURITIBA;Headset;1833.95;9;09-07-2025\\n392;Fernanda;41.0;PORTO ALEGRE;Monitor;1941.41;10;18-08-2024\\n393;Maria;54.0;BELO HORIZONTE;Tablet;931,8;1;14-01-2025\\n394;Fernanda;;SALVADOR;Smartphone;3979.93;7;17-12-2023\\n395;Bruno;46.0;CURITIBA;Headset;3321.2;2;24-08-2023\\n396;Fernanda;41.0;BELO HORIZONTE;Notebook;3332.82;3;17-06-2025\\n397;Julia;22.0;FORTALEZA;Notebook;3584.32;1;15-08-2025\\n398;Julia;51.0;FORTALEZA;Notebook;1425.11;4;19-01-2023\\n399;Bruno;38.0;RIO DE JANEIRO;Smartphone;4453.87;5;28-01-2023\\n400;Bruno;33.0;PORTO ALEGRE;Monitor;2458.57;8;27-01-2025\\n401;Carlos;19.0;FORTALEZA;Smartphone;824.54;2;27-10-2023\\n402;Fernanda;49.0;BELO HORIZONTE;Notebook;606.89;8;12-04-2024\\n403;Julia;53.0;BELO HORIZONTE;Monitor;670.49;6;21-01-2023\\n404;Pedro;67.0;CURITIBA;Headset;1300.96;5;01-03-2023\\n405;Pedro;46.0;PORTO ALEGRE;Notebook;816.99;6;29-04-2023\\n406;Mariana;57.0;FORTALEZA;Tablet;4599.44;6;08-06-2025\\n407;Carlos;49.0;PORTO ALEGRE;Monitor;2530.07;9;06-05-2024\\n408;Pedro;26.0;RIO DE JANEIRO;Smartphone;1923.82;9;31-05-2023\\n409;Carlos;46.0;FORTALEZA;Mouse;1032.38;5;13-11-2023\\n410;Ana;63.0;CURITIBA;Smartphone;;6;27-06-2025\\n411;Julia;23.0;MANAUS;Tablet;784.57;1;24-08-2024\\n412;Fernanda;38.0;S\\xc3\\x83O PAULO;Teclado;704.83;7;04-02-2024\\n413;Carlos;63.0;RIO DE JANEIRO;Smartphone;2109.65;2;29-07-2023\\n414;Carlos;52.0;MANAUS;Mouse;1804.26;6;11-01-2023\\n415;Maria;37.0;CURITIBA;Mouse;3229.55;10;01-03-2023\\n416;Fernanda;63.0;PORTO ALEGRE;Mouse;4670.11;4;29-06-2024\\n417;Ana;62.0;PORTO ALEGRE;Tablet;4199.55;10;10-05-2023\\n418;Maria;68.0;MANAUS;Notebook;;10;16-08-2024\\n419;Bruno;32.0;FORTALEZA;Notebook;1489.4;9;07-06-2023\\n420;Mariana;30.0;BELO HORIZONTE;Smartphone;4085.47;3;03-09-2023\\n421;Julia;33.0;MANAUS;Monitor;1827.4;5;30-06-2025\\n422;Jo\\xc3\\xa3o;19.0;S\\xc3\\x83O PAULO;Teclado;1841.25;6;08-05-2023\\n423;Fernanda;54.0;manaus;Smartphone;4844.14;6;06-12-2023\\n424;Jo\\xc3\\xa3o;69.0;belo horizonte;Mouse;3415.73;9;29-11-2024\\n425;Bruno;26.0;S\\xc3\\x83O PAULO;Notebook;550.18;8;05-03-2024\\n426;Fernanda;23.0;PORTO ALEGRE;Mouse;1136.18;8;18-07-2025\\n427;Ana;43.0;BELO HORIZONTE;Monitor;;2;08-08-2023\\n428;Maria;64.0;FORTALEZA;Mouse;2273.37;7;17-06-2025\\n429;Carlos;44.0;FORTALEZA;Tablet;883.07;10;27-04-2023\\n430;Maria;70.0;curitiba;Notebook;3836.44;5;21-10-2024\\n431;Jo\\xc3\\xa3o;26.0;CURITIBA;Tablet;1452.82;8;10-06-2025\\n432;Fernanda;59.0;BELO HORIZONTE;Teclado;4331.56;3;04-01-2023\\n433;Lucas;47.0;fortaleza;Teclado;1327.97;3;19-01-2025\\n434;Julia;40.0;SALVADOR;Headset;1637.34;6;19-12-2022\\n435;Mariana;67.0;RIO DE JANEIRO;Monitor;3519.4;7;15-03-2024\\n436;Carlos;55.0;S\\xc3\\x83O PAULO;Notebook;744.75;10;21-05-2025\\n437;Jo\\xc3\\xa3o;26.0;RIO DE JANEIRO;Tablet;4955.34;10;17-05-2025\\n438;Julia;21.0;SALVADOR;Tablet;3401.04;7;17-08-2023\\n439;Bruno;51.0;MANAUS;Tablet;3522.58;2;04-01-2025\\n440;Carlos;28.0;curitiba;Smartphone;1388.38;2;02-03-2024\\n441;Julia;63.0;PORTO ALEGRE;Smartphone;4781.93;3;30-07-2024\\n442;Fernanda;51.0;MANAUS;Teclado;3520.83;6;15-02-2025\\n443;Bruno;23.0;porto alegre;Headset;1783.12;4;12-02-2025\\n444;Ana;58.0;rio de janeiro;Mouse;;6;08-03-2024\\n445;Mariana;35.0;CURITIBA;Teclado;2686.38;6;26-10-2023\\n446;Jo\\xc3\\xa3o;37.0;BELO HORIZONTE;Headset;3467.4;5;17-12-2024\\n447;Pedro;23.0;BELO HORIZONTE;Teclado;1185.78;5;23-01-2024\\n448;Lucas;28.0;BELO HORIZONTE;Tablet;4134.65;10;27-11-2023\\n449;Pedro;55.0;s\\xc3\\xa3o paulo;Smartphone;1258.88;7;01-01-2023\\n450;Jo\\xc3\\xa3o;60.0;BELO HORIZONTE;Teclado;4035.47;5;26-02-2025\\n451;Carlos;56.0;SALVADOR;Monitor;3383.77;8;04-02-2024\\n452;Jo\\xc3\\xa3o;54.0;BELO HORIZONTE;Teclado;2117.69;6;23-07-2023\\n453;Jo\\xc3\\xa3o;;MANAUS;Monitor;1992.03;10;04-02-2024\\n454;Fernanda;23.0;RIO DE JANEIRO;Mouse;2504.11;9;29-06-2024\\n455;Maria;;BELO HORIZONTE;Tablet;2691.37;8;26-07-2023\\n456;Lucas;54.0;PORTO ALEGRE;Smartphone;34049.8;7;12-05-2025\\n457;Ana;31.0;PORTO ALEGRE;Teclado;1762.77;3;06-07-2023\\n458;Ana;44.0;BELO HORIZONTE;Monitor;4510.84;3;14-11-2023\\n459;Julia;19.0;RIO DE JANEIRO;Mouse;3800.95;1;16-01-2024\\n460;Ana;58.0;FORTALEZA;Smartphone;3773.41;3;27-08-2024\\n461;Lucas;59.0;S\\xc3\\x83O PAULO;Headset;4323.14;4;08-10-2023\\n462;Julia;48.0;FORTALEZA;Tablet;4156.89;5;16-05-2024\\n463;Julia;69.0;SALVADOR;Teclado;3961.4;2;09-09-2023\\n464;Carlos;37.0;FORTALEZA;Teclado;664.95;4;17-10-2023\\n465;Maria;62.0;SALVADOR;Tablet;4522.94;3;17-06-2024\\n466;Pedro;46.0;RIO DE JANEIRO;Smartphone;3442.59;7;08-03-2023\\n467;Bruno;47.0;RIO DE JANEIRO;Smartphone;2266.24;2;14-05-2025\\n468;Carlos;56.0;S\\xc3\\x83O PAULO;Teclado;3153.2;2;11-03-2025\\n469;Mariana;63.0;CURITIBA;Notebook;1102.47;2;09-06-2023\\n470;Maria;40.0;PORTO ALEGRE;Teclado;907.49;8;25-02-2025\\n471;Maria;26.0;BELO HORIZONTE;Monitor;547.66;9;12-02-2024\\n472;Maria;50.0;RIO DE JANEIRO;Headset;4838.0;1;13-07-2024\\n473;Jo\\xc3\\xa3o;38.0;rio de janeiro;Mouse;3578.73;1;30-03-2024\\n474;Mariana;25.0;salvador;Mouse;1131.67;7;17-09-2024\\n475;Carlos;33.0;s\\xc3\\xa3o paulo;Monitor;3048,61;9;25-10-2023\\n476;Mariana;21.0;PORTO ALEGRE;Notebook;4424.88;2;20-03-2025\\n477;Pedro;42.0;PORTO ALEGRE;Smartphone;3794.02;2;29-02-2024\\n478;Fernanda;44.0;PORTO ALEGRE;Monitor;681.89;5;23-12-2023\\n479;Mariana;28.0;belo horizonte;Tablet;1542.87;10;01-06-2024\\n480;Maria;54.0;FORTALEZA;Mouse;1553.08;3;16-01-2023\\n481;Pedro;30.0;salvador;Monitor;2830.48;2;02-09-2024\\n482;Fernanda;49.0;BELO HORIZONTE;Smartphone;2246.42;7;16-02-2023\\n483;Lucas;47.0;PORTO ALEGRE;Teclado;4466.98;5;10-10-2024\\n484;Fernanda;37.0;RIO DE JANEIRO;Monitor;;4;12-02-2024\\n485;Lucas;23.0;PORTO ALEGRE;Notebook;964.51;4;30-09-2024\\n486;Ana;50.0;SALVADOR;Headset;3351.05;5;16-04-2023\\n487;Fernanda;33.0;rio de janeiro;Smartphone;3838.59;8;13-08-2024\\n488;Lucas;40.0;RIO DE JANEIRO;Tablet;3065.72;3;02-07-2024\\n489;Bruno;;S\\xc3\\x83O PAULO;Teclado;2203.33;3;08-07-2023\\n490;Maria;56.0;BELO HORIZONTE;Notebook;4542.02;9;19-11-2023\\n491;Jo\\xc3\\xa3o;59.0;BELO HORIZONTE;Smartphone;1632.14;3;14-06-2024\\n492;Fernanda;36.0;BELO HORIZONTE;Tablet;1503,05;1;06-05-2023\\n493;Julia;24.0;CURITIBA;Tablet;4177,57;1;16-08-2023\\n494;Mariana;34.0;FORTALEZA;Smartphone;4066.96;6;01-10-2024\\n495;Lucas;66.0;BELO HORIZONTE;Teclado;529.69;6;14-12-2023\\n496;Carlos;20.0;FORTALEZA;Notebook;2479.54;8;25-12-2024\\n497;Lucas;54.0;RIO DE JANEIRO;Mouse;2815.44;8;30-01-2024\\n498;Fernanda;41.0;S\\xc3\\x83O PAULO;Teclado;1176.08;9;17-02-2024\\n499;Lucas;22.0;PORTO ALEGRE;Teclado;3209.09;5;21-01-2025\\n500;Pedro;46.0;RIO DE JANEIRO;Teclado;3474.99;9;09-08-2024\\n362;Fernanda;;PORTO ALEGRE;Smartphone;1689.08;7;07-05-2025\\n74;Carlos;39.0;S\\xc3\\x83O PAULO;Tablet;4035.86;9;27-08-2023\\n375;Maria;38.0;FORTALEZA;Mouse;2072.31;7;11-05-2025\\n156;Jo\\xc3\\xa3o;47.0;belo horizonte;Smartphone;3444,96;7;28-12-2022\\n105;Mariana;23.0;SALVADOR;Smartphone;2588.98;7;23-02-2025\\n395;Bruno;46.0;CURITIBA;Headset;3321.2;2;24-08-2023\\n378;Mariana;62.0;MANAUS;Tablet;3282.26;3;19-05-2025\\n125;Jo\\xc3\\xa3o;24.0;MANAUS;Headset;4529.67;5;19-02-2025\\n69;Jo\\xc3\\xa3o;25.0;BELO HORIZONTE;Headset;31440.9;8;01-02-2024\\n451;Carlos;56.0;SALVADOR;Monitor;3383.77;8;04-02-2024\\n'}"
            ]
          },
          "metadata": {},
          "execution_count": 2
        }
      ],
      "source": [
        "from google.colab import files\n",
        "files.upload()"
      ]
    },
    {
      "cell_type": "code",
      "source": [
        "import pandas as pd\n",
        "\n",
        "df = pd.read_csv('atividade3_dataset.csv', sep=';')\n",
        "\n",
        "print(df.head())"
      ],
      "metadata": {
        "colab": {
          "base_uri": "https://localhost:8080/"
        },
        "id": "x8IWovBSToSA",
        "outputId": "7ddd4546-4191-415b-9947-7e106da53541"
      },
      "execution_count": 3,
      "outputs": [
        {
          "output_type": "stream",
          "name": "stdout",
          "text": [
            "   ID     Nome  Idade          Cidade   Produto    Preço  Quantidade  \\\n",
            "0   1  Mariana   48.0       FORTALEZA    Tablet  2010,87           7   \n",
            "1   2    Bruno   42.0  RIO DE JANEIRO   Teclado      NaN           6   \n",
            "2   3      Ana   54.0  RIO DE JANEIRO   Monitor  3619.29           2   \n",
            "3   4   Carlos   62.0        CURITIBA   Teclado  40415.9           8   \n",
            "4   5  Mariana   60.0        CURITIBA  Notebook   716.66           8   \n",
            "\n",
            "  Data_Compra  \n",
            "0  30-05-2024  \n",
            "1  12-04-2025  \n",
            "2  10-12-2022  \n",
            "3  31-12-2022  \n",
            "4  14-09-2023  \n"
          ]
        }
      ]
    },
    {
      "cell_type": "code",
      "source": [
        "#Found null values\n",
        "#Verificando existência de nulls\n",
        "print(df.isnull().sum())"
      ],
      "metadata": {
        "colab": {
          "base_uri": "https://localhost:8080/"
        },
        "id": "ICYvjS5dpams",
        "outputId": "85ea90ad-50a5-4a2d-f4af-e312fee77ed4"
      },
      "execution_count": 13,
      "outputs": [
        {
          "output_type": "stream",
          "name": "stdout",
          "text": [
            "ID             0\n",
            "Nome           0\n",
            "Idade          0\n",
            "Cidade         0\n",
            "Produto        0\n",
            "Preço          0\n",
            "Quantidade     0\n",
            "Data_Compra    0\n",
            "dtype: int64\n"
          ]
        }
      ]
    },
    {
      "cell_type": "code",
      "source": [
        "#Average\n",
        "#Tirando média\n",
        "mean_idade = df['Idade'].mean()\n",
        "mean_preco = df['Preço'].str.replace(',', '.').astype(float).mean()\n",
        "\n",
        "print(f\"Mean age: {mean_idade}\")\n",
        "print(f\"Mean price: {mean_preco}\")"
      ],
      "metadata": {
        "colab": {
          "base_uri": "https://localhost:8080/"
        },
        "id": "7QvnPx_xplZ7",
        "outputId": "9ef3859b-4698-4e56-a7c3-89acc700e518"
      },
      "execution_count": 14,
      "outputs": [
        {
          "output_type": "stream",
          "name": "stdout",
          "text": [
            "Mean age: 44.27402862985685\n",
            "Mean price: 3120.137864693446\n"
          ]
        }
      ]
    },
    {
      "cell_type": "code",
      "source": [
        "#Changing the nulls rows, puting average\n",
        "#Colocando média no lugar dos valores nulos\n",
        "df['Idade'].fillna(mean_idade, inplace=True)\n",
        "df['Preço'].fillna(mean_preco, inplace=True)"
      ],
      "metadata": {
        "colab": {
          "base_uri": "https://localhost:8080/"
        },
        "id": "n9mkTCuLqBS6",
        "outputId": "95f8be9d-2535-4da5-b60e-67edfadfd550"
      },
      "execution_count": 15,
      "outputs": [
        {
          "output_type": "stream",
          "name": "stderr",
          "text": [
            "/tmp/ipython-input-3494741089.py:2: FutureWarning: A value is trying to be set on a copy of a DataFrame or Series through chained assignment using an inplace method.\n",
            "The behavior will change in pandas 3.0. This inplace method will never work because the intermediate object on which we are setting values always behaves as a copy.\n",
            "\n",
            "For example, when doing 'df[col].method(value, inplace=True)', try using 'df.method({col: value}, inplace=True)' or df[col] = df[col].method(value) instead, to perform the operation inplace on the original object.\n",
            "\n",
            "\n",
            "  df['Idade'].fillna(mean_idade, inplace=True)\n"
          ]
        }
      ]
    },
    {
      "cell_type": "code",
      "source": [
        "#Checking\n",
        "print(df.isnull().sum())"
      ],
      "metadata": {
        "colab": {
          "base_uri": "https://localhost:8080/"
        },
        "id": "I5lOcCcYv6vJ",
        "outputId": "947cc152-f13a-444c-d1de-b490750c7bf1"
      },
      "execution_count": 16,
      "outputs": [
        {
          "output_type": "stream",
          "name": "stdout",
          "text": [
            "ID             0\n",
            "Nome           0\n",
            "Idade          0\n",
            "Cidade         0\n",
            "Produto        0\n",
            "Preço          0\n",
            "Quantidade     0\n",
            "Data_Compra    0\n",
            "dtype: int64\n"
          ]
        }
      ]
    },
    {
      "cell_type": "code",
      "source": [
        "#Identifying duplicate rows\n",
        "#Identificando linhas duplicadas para remover posteriormente\n",
        "duplicate_rows = df[df.duplicated()]\n",
        "print(duplicate_rows)"
      ],
      "metadata": {
        "colab": {
          "base_uri": "https://localhost:8080/"
        },
        "id": "BNCEXraywFa4",
        "outputId": "ff1c4249-9add-428d-fc1c-c180efec856b"
      },
      "execution_count": 17,
      "outputs": [
        {
          "output_type": "stream",
          "name": "stdout",
          "text": [
            "      ID      Nome      Idade        Cidade     Produto    Preço  Quantidade  \\\n",
            "500  362  Fernanda  44.274029  Porto Alegre  Smartphone  1689.08           7   \n",
            "501   74    Carlos  39.000000     São Paulo      Tablet  4035.86           9   \n",
            "502  375     Maria  38.000000     Fortaleza       Mouse  2072.31           7   \n",
            "504  105   Mariana  23.000000      Salvador  Smartphone  2588.98           7   \n",
            "505  395     Bruno  46.000000      Curitiba     Headset   3321.2           2   \n",
            "506  378   Mariana  62.000000        Manaus      Tablet  3282.26           3   \n",
            "507  125      João  24.000000        Manaus     Headset  4529.67           5   \n",
            "509  451    Carlos  56.000000      Salvador     Monitor  3383.77           8   \n",
            "\n",
            "    Data_Compra  \n",
            "500  07-05-2025  \n",
            "501  27-08-2023  \n",
            "502  11-05-2025  \n",
            "504  23-02-2025  \n",
            "505  24-08-2023  \n",
            "506  19-05-2025  \n",
            "507  19-02-2025  \n",
            "509  04-02-2024  \n"
          ]
        }
      ]
    },
    {
      "cell_type": "code",
      "source": [
        "#removing and checking duplicate rows\n",
        "df.drop_duplicates(inplace=True)\n",
        "\n",
        "print(df.duplicated().sum())"
      ],
      "metadata": {
        "colab": {
          "base_uri": "https://localhost:8080/"
        },
        "id": "zHdrvBtrwTHr",
        "outputId": "8e4bd7b1-860d-498d-c97e-e831bdaa2c48"
      },
      "execution_count": 19,
      "outputs": [
        {
          "output_type": "stream",
          "name": "stdout",
          "text": [
            "0\n"
          ]
        }
      ]
    },
    {
      "cell_type": "code",
      "source": [
        "#Changing the first letter and display to check\n",
        "#Padronização com title(), para deixar os nomes das cidades todos\n",
        "#com a mesma formatação\n",
        "df['Cidade'] = df['Cidade'].str.title()\n",
        "print(df['Cidade'].head())"
      ],
      "metadata": {
        "colab": {
          "base_uri": "https://localhost:8080/"
        },
        "id": "K9XNtJyfyQle",
        "outputId": "a57dee93-e6b6-4b42-a78c-c736ca296c7f"
      },
      "execution_count": 20,
      "outputs": [
        {
          "output_type": "stream",
          "name": "stdout",
          "text": [
            "0         Fortaleza\n",
            "1    Rio De Janeiro\n",
            "2    Rio De Janeiro\n",
            "3          Curitiba\n",
            "4          Curitiba\n",
            "Name: Cidade, dtype: object\n"
          ]
        }
      ]
    },
    {
      "cell_type": "code",
      "source": [
        "import seaborn as sns\n",
        "import matplotlib.pyplot as plt\n",
        "\n",
        "correlation_matrix = df.corr(numeric_only=True)\n",
        "\n",
        "plt.figure(figsize=(8, 6))\n",
        "sns.heatmap(correlation_matrix, annot=True, cmap='coolwarm', fmt=\".2f\")\n",
        "plt.title('Correlation Heatmap')\n",
        "plt.show()"
      ],
      "metadata": {
        "colab": {
          "base_uri": "https://localhost:8080/",
          "height": 564
        },
        "id": "YKCZX_uTzYau",
        "outputId": "00a38200-c242-4411-91e6-8ace306c9a5a"
      },
      "execution_count": 24,
      "outputs": [
        {
          "output_type": "display_data",
          "data": {
            "text/plain": [
              "<Figure size 800x600 with 1 Axes>"
            ],
            "image/png": "[encoded data removed]"
          },
          "metadata": {}
        }
      ]
    },
    {
      "cell_type": "code",
      "source": [
        "import seaborn as sns\n",
        "import matplotlib.pyplot as plt\n",
        "\n",
        "correlation_matrix = df.corr(numeric_only=True)\n",
        "\n",
        "plt.figure(figsize=(8, 6))\n",
        "sns.heatmap(correlation_matrix, annot=True, cmap='coolwarm', fmt=\".2f\")\n",
        "plt.title('Correlation Heatmap')\n",
        "plt.show()"
      ],
      "metadata": {
        "colab": {
          "base_uri": "https://localhost:8080/",
          "height": 545
        },
        "id": "n-hBWJt_1EAx",
        "outputId": "75c814f4-5459-47b6-d671-c2b12b5d7162"
      },
      "execution_count": 26,
      "outputs": [
        {
          "output_type": "display_data",
          "data": {
            "text/plain": [
              "<Figure size 800x600 with 2 Axes>"
            ],
            "image/png": "[encoded data removed]"
          },
          "metadata": {}
        }
      ]
    },
    {
      "cell_type": "code",
      "source": [
        "#Median and deviation values\n",
        "#Foi feito apenas mediana e desvio pois já existe média\n",
        "median_values = df.median(numeric_only=True)\n",
        "\n",
        "print(\"\\nMedian Values:\")\n",
        "print(median_values)\n",
        "\n",
        "std_dev_values = df.std(numeric_only=True)\n",
        "\n",
        "print(\"\\nStandard Deviation Values:\")\n",
        "print(std_dev_values)"
      ],
      "metadata": {
        "colab": {
          "base_uri": "https://localhost:8080/"
        },
        "id": "4DtyiKcB1H_E",
        "outputId": "69832436-d933-4b72-eef1-90b9c7bc6f2a"
      },
      "execution_count": 28,
      "outputs": [
        {
          "output_type": "stream",
          "name": "stdout",
          "text": [
            "\n",
            "Median Values:\n",
            "ID            249.500000\n",
            "Idade          44.274029\n",
            "Quantidade      6.000000\n",
            "dtype: float64\n",
            "\n",
            "Standard Deviation Values:\n",
            "ID            144.481631\n",
            "Idade          15.028173\n",
            "Quantidade      2.861006\n",
            "dtype: float64\n"
          ]
        }
      ]
    },
    {
      "cell_type": "code",
      "source": [
        "# Creating \"Faixa_Etaria\" column\n",
        "#Criado a coluna de faixa_etária para qualificar cada faixa.\n",
        "age_bins = [0, 12, 17, 35, 59, float('inf')]\n",
        "age_labels = ['Criança', 'Adolescente', 'Adulto Jovem', 'Adulto', 'Idoso']\n",
        "\n",
        "df['Faixa_Etaria'] = pd.cut(df['Idade'], bins=age_bins, labels=age_labels, right=False)\n",
        "\n",
        "print(df[['Idade', 'Faixa_Etaria']].head())"
      ],
      "metadata": {
        "colab": {
          "base_uri": "https://localhost:8080/"
        },
        "id": "zJGwPOAH13nr",
        "outputId": "58df1a83-3e6e-41f2-8cfd-5a2247076678"
      },
      "execution_count": 30,
      "outputs": [
        {
          "output_type": "stream",
          "name": "stdout",
          "text": [
            "   Idade Faixa_Etaria\n",
            "0   48.0       Adulto\n",
            "1   42.0       Adulto\n",
            "2   54.0       Adulto\n",
            "3   62.0        Idoso\n",
            "4   60.0        Idoso\n"
          ]
        }
      ]
    }
  ]
}