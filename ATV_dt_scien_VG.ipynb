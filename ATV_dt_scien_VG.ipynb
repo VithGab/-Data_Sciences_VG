{
  "nbformat": 4,
  "nbformat_minor": 0,
  "metadata": {
    "colab": {
      "provenance": [],
      "authorship_tag": "ABX9TyPdvUIzvcfwViiwawVmMH8Y",
      "include_colab_link": true
    },
    "kernelspec": {
      "name": "python3",
      "display_name": "Python 3"
    },
    "language_info": {
      "name": "python"
    }
  },
  "cells": [
    {
      "cell_type": "markdown",
      "metadata": {
        "id": "view-in-github",
        "colab_type": "text"
      },
      "source": [
        "<a href=\"https://colab.research.google.com/github/VithGab/-Data_Sciences_VG/blob/main/ATV_dt_scien_VG.ipynb\" target=\"_parent\"><img src=\"https://colab.research.google.com/assets/colab-badge.svg\" alt=\"Open In Colab\"/></a>"
      ]
    },
    {
      "cell_type": "code",
      "source": [
        "import pandas as pd\n",
        "\n",
        "df = pd.read_csv('atividade3_dataset.csv', sep=';')\n",
        "\n",
        "print(df.head())"
      ],
      "metadata": {
        "colab": {
          "base_uri": "https://localhost:8080/"
        },
        "id": "x8IWovBSToSA",
        "outputId": "dede5c4e-5304-431c-aee4-927bdf4f5f9f"
      },
      "execution_count": 1,
      "outputs": [
        {
          "output_type": "stream",
          "name": "stdout",
          "text": [
            "   ID     Nome  Idade          Cidade   Produto    Preço  Quantidade  \\\n",
            "0   1  Mariana   48.0       FORTALEZA    Tablet  2010,87           7   \n",
            "1   2    Bruno   42.0  RIO DE JANEIRO   Teclado      NaN           6   \n",
            "2   3      Ana   54.0  RIO DE JANEIRO   Monitor  3619.29           2   \n",
            "3   4   Carlos   62.0        CURITIBA   Teclado  40415.9           8   \n",
            "4   5  Mariana   60.0        CURITIBA  Notebook   716.66           8   \n",
            "\n",
            "  Data_Compra  \n",
            "0  30-05-2024  \n",
            "1  12-04-2025  \n",
            "2  10-12-2022  \n",
            "3  31-12-2022  \n",
            "4  14-09-2023  \n"
          ]
        }
      ]
    },
    {
      "cell_type": "code",
      "source": [
        "#Found null values\n",
        "#Verificando existência de nulls\n",
        "print(df.isnull().sum())"
      ],
      "metadata": {
        "colab": {
          "base_uri": "https://localhost:8080/"
        },
        "id": "ICYvjS5dpams",
        "outputId": "ac6c2abd-79c0-48f9-89b3-332ceadeaf66"
      },
      "execution_count": 2,
      "outputs": [
        {
          "output_type": "stream",
          "name": "stdout",
          "text": [
            "ID              0\n",
            "Nome            0\n",
            "Idade          21\n",
            "Cidade          0\n",
            "Produto         0\n",
            "Preço          37\n",
            "Quantidade      0\n",
            "Data_Compra     0\n",
            "dtype: int64\n"
          ]
        }
      ]
    },
    {
      "cell_type": "code",
      "source": [
        "#Average\n",
        "#Tirando média\n",
        "mean_idade = df['Idade'].mean()\n",
        "mean_preco = df['Preço'].str.replace(',', '.').astype(float).mean()\n",
        "\n",
        "print(f\"Mean age: {mean_idade}\")\n",
        "print(f\"Mean price: {mean_preco}\")"
      ],
      "metadata": {
        "colab": {
          "base_uri": "https://localhost:8080/"
        },
        "id": "7QvnPx_xplZ7",
        "outputId": "f3807edc-3910-417e-efc0-3256cbf9f8d7"
      },
      "execution_count": 3,
      "outputs": [
        {
          "output_type": "stream",
          "name": "stdout",
          "text": [
            "Mean age: 44.27402862985685\n",
            "Mean price: 3120.137864693446\n"
          ]
        }
      ]
    },
    {
      "cell_type": "code",
      "source": [
        "#Changing the nulls rows, puting average\n",
        "#Colocando média no lugar dos valores nulos\n",
        "df['Idade'].fillna(mean_idade, inplace=True)\n",
        "df['Preço'].fillna(mean_preco, inplace=True)"
      ],
      "metadata": {
        "colab": {
          "base_uri": "https://localhost:8080/"
        },
        "id": "n9mkTCuLqBS6",
        "outputId": "454b1dac-0181-4dc6-9086-ed6f30c3e7ad"
      },
      "execution_count": 4,
      "outputs": [
        {
          "output_type": "stream",
          "name": "stderr",
          "text": [
            "/tmp/ipython-input-3183644328.py:3: FutureWarning: A value is trying to be set on a copy of a DataFrame or Series through chained assignment using an inplace method.\n",
            "The behavior will change in pandas 3.0. This inplace method will never work because the intermediate object on which we are setting values always behaves as a copy.\n",
            "\n",
            "For example, when doing 'df[col].method(value, inplace=True)', try using 'df.method({col: value}, inplace=True)' or df[col] = df[col].method(value) instead, to perform the operation inplace on the original object.\n",
            "\n",
            "\n",
            "  df['Idade'].fillna(mean_idade, inplace=True)\n"
          ]
        }
      ]
    },
    {
      "cell_type": "code",
      "source": [
        "#Checking\n",
        "print(df.isnull().sum())"
      ],
      "metadata": {
        "colab": {
          "base_uri": "https://localhost:8080/"
        },
        "id": "I5lOcCcYv6vJ",
        "outputId": "9ac457cd-50ba-4530-dd2f-0790f67afdb6"
      },
      "execution_count": 5,
      "outputs": [
        {
          "output_type": "stream",
          "name": "stdout",
          "text": [
            "ID             0\n",
            "Nome           0\n",
            "Idade          0\n",
            "Cidade         0\n",
            "Produto        0\n",
            "Preço          0\n",
            "Quantidade     0\n",
            "Data_Compra    0\n",
            "dtype: int64\n"
          ]
        }
      ]
    },
    {
      "cell_type": "code",
      "source": [
        "#Identifying duplicate rows\n",
        "#Identificando linhas duplicadas para remover posteriormente\n",
        "duplicate_rows = df[df.duplicated()]\n",
        "print(duplicate_rows)"
      ],
      "metadata": {
        "colab": {
          "base_uri": "https://localhost:8080/"
        },
        "id": "BNCEXraywFa4",
        "outputId": "9df4b99a-f95b-45e9-fe62-dd5589e0bf81"
      },
      "execution_count": 6,
      "outputs": [
        {
          "output_type": "stream",
          "name": "stdout",
          "text": [
            "      ID      Nome      Idade        Cidade     Produto    Preço  Quantidade  \\\n",
            "500  362  Fernanda  44.274029  PORTO ALEGRE  Smartphone  1689.08           7   \n",
            "501   74    Carlos  39.000000     SÃO PAULO      Tablet  4035.86           9   \n",
            "502  375     Maria  38.000000     FORTALEZA       Mouse  2072.31           7   \n",
            "504  105   Mariana  23.000000      SALVADOR  Smartphone  2588.98           7   \n",
            "505  395     Bruno  46.000000      CURITIBA     Headset   3321.2           2   \n",
            "506  378   Mariana  62.000000        MANAUS      Tablet  3282.26           3   \n",
            "507  125      João  24.000000        MANAUS     Headset  4529.67           5   \n",
            "509  451    Carlos  56.000000      SALVADOR     Monitor  3383.77           8   \n",
            "\n",
            "    Data_Compra  \n",
            "500  07-05-2025  \n",
            "501  27-08-2023  \n",
            "502  11-05-2025  \n",
            "504  23-02-2025  \n",
            "505  24-08-2023  \n",
            "506  19-05-2025  \n",
            "507  19-02-2025  \n",
            "509  04-02-2024  \n"
          ]
        }
      ]
    },
    {
      "cell_type": "code",
      "source": [
        "#removing and checking duplicate rows\n",
        "df.drop_duplicates(inplace=True)\n",
        "\n",
        "print(df.duplicated().sum())"
      ],
      "metadata": {
        "colab": {
          "base_uri": "https://localhost:8080/"
        },
        "id": "zHdrvBtrwTHr",
        "outputId": "c10a9470-5225-4630-a4eb-237e0072f3dc"
      },
      "execution_count": 7,
      "outputs": [
        {
          "output_type": "stream",
          "name": "stdout",
          "text": [
            "0\n"
          ]
        }
      ]
    },
    {
      "cell_type": "code",
      "source": [
        "#Changing the first letter and display to check\n",
        "#Padronização com title(), para deixar os nomes das cidades todos\n",
        "#com a mesma formatação\n",
        "df['Cidade'] = df['Cidade'].str.title()\n",
        "print(df['Cidade'].head())"
      ],
      "metadata": {
        "colab": {
          "base_uri": "https://localhost:8080/"
        },
        "id": "K9XNtJyfyQle",
        "outputId": "bfdcde5d-1eae-4d05-c7c5-343b1ad297e3"
      },
      "execution_count": 8,
      "outputs": [
        {
          "output_type": "stream",
          "name": "stdout",
          "text": [
            "0         Fortaleza\n",
            "1    Rio De Janeiro\n",
            "2    Rio De Janeiro\n",
            "3          Curitiba\n",
            "4          Curitiba\n",
            "Name: Cidade, dtype: object\n"
          ]
        }
      ]
    },
    {
      "cell_type": "code",
      "source": [
        "import seaborn as sns\n",
        "import matplotlib.pyplot as plt\n",
        "\n",
        "correlation_matrix = df.corr(numeric_only=True)\n",
        "\n",
        "plt.figure(figsize=(8, 6))\n",
        "sns.heatmap(correlation_matrix, annot=True, cmap='coolwarm', fmt=\".2f\")\n",
        "plt.title('Correlation Heatmap')\n",
        "plt.show()"
      ],
      "metadata": {
        "colab": {
          "base_uri": "https://localhost:8080/",
          "height": 545
        },
        "id": "YKCZX_uTzYau",
        "outputId": "81413390-e50a-43cc-a193-3ac450d82948"
      },
      "execution_count": 9,
      "outputs": [
        {
          "output_type": "display_data",
          "data": {
            "text/plain": [
              "<Figure size 800x600 with 2 Axes>"
            ],
            "image/png": "[encoded data removed]"
          },
          "metadata": {}
        }
      ]
    },
    {
      "cell_type": "code",
      "source": [
        "import seaborn as sns\n",
        "import matplotlib.pyplot as plt\n",
        "\n",
        "correlation_matrix = df.corr(numeric_only=True)\n",
        "\n",
        "plt.figure(figsize=(8, 6))\n",
        "sns.heatmap(correlation_matrix, annot=True, cmap='coolwarm', fmt=\".2f\")\n",
        "plt.title('Correlation Heatmap')\n",
        "plt.show()"
      ],
      "metadata": {
        "colab": {
          "base_uri": "https://localhost:8080/",
          "height": 545
        },
        "id": "n-hBWJt_1EAx",
        "outputId": "5c986464-973b-4a37-bfe7-6f6979fb7a38"
      },
      "execution_count": 10,
      "outputs": [
        {
          "output_type": "display_data",
          "data": {
            "text/plain": [
              "<Figure size 800x600 with 2 Axes>"
            ],
            "image/png": "[encoded data removed]"
          },
          "metadata": {}
        }
      ]
    },
    {
      "cell_type": "code",
      "source": [
        "#Median and deviation values\n",
        "#Foi feito apenas mediana e desvio pois já existe média\n",
        "median_values = df.median(numeric_only=True)\n",
        "\n",
        "print(\"\\nMedian Values:\")\n",
        "print(median_values)\n",
        "\n",
        "std_dev_values = df.std(numeric_only=True)\n",
        "\n",
        "print(\"\\nStandard Deviation Values:\")\n",
        "print(std_dev_values)"
      ],
      "metadata": {
        "colab": {
          "base_uri": "https://localhost:8080/"
        },
        "id": "4DtyiKcB1H_E",
        "outputId": "7a43dbd6-1b38-4466-ef06-52c940a81b46"
      },
      "execution_count": 11,
      "outputs": [
        {
          "output_type": "stream",
          "name": "stdout",
          "text": [
            "\n",
            "Median Values:\n",
            "ID            249.500000\n",
            "Idade          44.274029\n",
            "Quantidade      6.000000\n",
            "dtype: float64\n",
            "\n",
            "Standard Deviation Values:\n",
            "ID            144.481631\n",
            "Idade          15.028173\n",
            "Quantidade      2.861006\n",
            "dtype: float64\n"
          ]
        }
      ]
    },
    {
      "cell_type": "code",
      "source": [
        "# Creating \"Faixa_Etaria\" column\n",
        "#Criado a coluna de faixa_etária para qualificar cada faixa.\n",
        "age_bins = [0, 12, 17, 35, 59, float('inf')]\n",
        "age_labels = ['Criança', 'Adolescente', 'Adulto Jovem', 'Adulto', 'Idoso']\n",
        "\n",
        "df['Faixa_Etaria'] = pd.cut(df['Idade'], bins=age_bins, labels=age_labels, right=False)\n",
        "\n",
        "print(df[['Idade', 'Faixa_Etaria']].head())"
      ],
      "metadata": {
        "colab": {
          "base_uri": "https://localhost:8080/"
        },
        "id": "zJGwPOAH13nr",
        "outputId": "a984f321-7e25-4559-c75f-971b54eba76a"
      },
      "execution_count": 12,
      "outputs": [
        {
          "output_type": "stream",
          "name": "stdout",
          "text": [
            "   Idade Faixa_Etaria\n",
            "0   48.0       Adulto\n",
            "1   42.0       Adulto\n",
            "2   54.0       Adulto\n",
            "3   62.0        Idoso\n",
            "4   60.0        Idoso\n"
          ]
        }
      ]
    },
    {
      "cell_type": "code",
      "metadata": {
        "colab": {
          "base_uri": "https://localhost:8080/"
        },
        "id": "06ac3949",
        "outputId": "a00fb576-304c-4255-d5e0-a85e4faab75d"
      },
      "source": [
        "import pandas as pd\n",
        "df = pd.read_csv('atividade3_dataset.csv', sep=';')\n",
        "print(df.head())"
      ],
      "execution_count": 13,
      "outputs": [
        {
          "output_type": "stream",
          "name": "stdout",
          "text": [
            "   ID     Nome  Idade          Cidade   Produto    Preço  Quantidade  \\\n",
            "0   1  Mariana   48.0       FORTALEZA    Tablet  2010,87           7   \n",
            "1   2    Bruno   42.0  RIO DE JANEIRO   Teclado      NaN           6   \n",
            "2   3      Ana   54.0  RIO DE JANEIRO   Monitor  3619.29           2   \n",
            "3   4   Carlos   62.0        CURITIBA   Teclado  40415.9           8   \n",
            "4   5  Mariana   60.0        CURITIBA  Notebook   716.66           8   \n",
            "\n",
            "  Data_Compra  \n",
            "0  30-05-2024  \n",
            "1  12-04-2025  \n",
            "2  10-12-2022  \n",
            "3  31-12-2022  \n",
            "4  14-09-2023  \n"
          ]
        }
      ]
    }
  ]
}